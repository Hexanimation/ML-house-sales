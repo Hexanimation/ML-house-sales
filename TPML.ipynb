{
 "cells": [
  {
   "attachments": {},
   "cell_type": "markdown",
   "metadata": {
    "pycharm": {
     "name": "#%% md\n"
    }
   },
   "source": [
    "<font size=\"7\">TP Machine Learning INSA LYON</font>\n",
    "\n",
    "    Copyright (C) 2023  Kanaan Kevin, Foltête François, Vote Robin\n",
    "\n",
    "    This program is free software: you can redistribute it and/or modify\n",
    "    it under the terms of the GNU General Public License as published by\n",
    "    the Free Software Foundation, either version 3 of the License, or\n",
    "    (at your option) any later version.\n",
    "\n",
    "    This program is distributed in the hope that it will be useful,\n",
    "    but WITHOUT ANY WARRANTY; without even the implied warranty of\n",
    "    MERCHANTABILITY or FITNESS FOR A PARTICULAR PURPOSE.  See the\n",
    "    GNU General Public License for more details.\n",
    "\n",
    "    You should have received a copy of the GNU General Public License\n",
    "    along with this program.  If not, see <https://www.gnu.org/licenses/>."
   ]
  },
  {
   "attachments": {},
   "cell_type": "markdown",
   "metadata": {
    "pycharm": {
     "name": "#%% md\n"
    }
   },
   "source": [
    "<font size=\"5\">Le but du TP est de prédire les prix en fonction de nos variables</font>"
   ]
  },
  {
   "attachments": {},
   "cell_type": "markdown",
   "metadata": {
    "pycharm": {
     "name": "#%% md\n"
    }
   },
   "source": [
    "## Importation des libraries à utiliser"
   ]
  },
  {
   "cell_type": "code",
   "execution_count": null,
   "metadata": {
    "pycharm": {
     "name": "#%%\n"
    }
   },
   "outputs": [],
   "source": [
    "import datetime as dt\n",
    "import pandas as pd\n",
    "import numpy as np\n",
    "#Libraries for data visualization\n",
    "import matplotlib.pyplot as plt\n",
    "import seaborn as sns\n",
    "from sklearn.model_selection import train_test_split\n",
    "from sklearn.linear_model import LinearRegression\n",
    "from sklearn.metrics import mean_squared_error\n",
    "from sklearn.metrics import r2_score\n",
    "from sklearn.linear_model import Ridge\n",
    "from sklearn.linear_model import Lasso\n",
    "from sklearn.model_selection import GridSearchCV\n",
    "from sklearn.preprocessing import StandardScaler\n",
    "from sklearn.pipeline import make_pipeline\n",
    "from sklearn.ensemble import RandomForestRegressor\n",
    "from sklearn.model_selection import KFold\n",
    "from sklearn.metrics import explained_variance_score\n",
    "#Libraries for data preprocessing\n",
    "# from sklearn.preprocessing import LabelEncoder\n",
    "# from sklearn.preprocessing import StandardScaler\n",
    "# from sklearn.model_selection import train_test_split\n",
    "# #Libraries for data modeling\n",
    "# from sklearn.linear_model import LogisticRegression\n",
    "# from sklearn.tree import DecisionTreeClassifier\n",
    "# from sklearn.ensemble import RandomForestClassifier"
   ]
  },
  {
   "cell_type": "code",
   "execution_count": null,
   "metadata": {},
   "outputs": [],
   "source": [
    "import warnings\n",
    "warnings.filterwarnings('ignore')"
   ]
  },
  {
   "attachments": {},
   "cell_type": "markdown",
   "metadata": {
    "pycharm": {
     "name": "#%% md\n"
    }
   },
   "source": [
    "## Exploration ML TP"
   ]
  },
  {
   "attachments": {},
   "cell_type": "markdown",
   "metadata": {
    "pycharm": {
     "name": "#%% md\n"
    }
   },
   "source": [
    "### Read csv file"
   ]
  },
  {
   "cell_type": "code",
   "execution_count": null,
   "metadata": {
    "pycharm": {
     "name": "#%%\n"
    }
   },
   "outputs": [],
   "source": [
    "df = pd.read_csv('kc_house_data.csv')"
   ]
  },
  {
   "attachments": {},
   "cell_type": "markdown",
   "metadata": {
    "pycharm": {
     "name": "#%% md\n"
    }
   },
   "source": [
    "### Affichages des 5 premières lignes de mon dataset"
   ]
  },
  {
   "cell_type": "code",
   "execution_count": null,
   "metadata": {
    "pycharm": {
     "name": "#%%\n"
    }
   },
   "outputs": [],
   "source": [
    "df.head()"
   ]
  },
  {
   "attachments": {},
   "cell_type": "markdown",
   "metadata": {
    "pycharm": {
     "name": "#%% md\n"
    }
   },
   "source": [
    "### Describe pour visualiser les données avec pandas"
   ]
  },
  {
   "cell_type": "code",
   "execution_count": null,
   "metadata": {
    "pycharm": {
     "name": "#%%\n"
    }
   },
   "outputs": [],
   "source": [
    "df.info()\n",
    "#Visualize the data that is in the csv\n",
    "df.describe()"
   ]
  },
  {
   "cell_type": "code",
   "execution_count": null,
   "metadata": {
    "pycharm": {
     "name": "#%%\n"
    }
   },
   "outputs": [],
   "source": [
    "df.isnull().sum()"
   ]
  },
  {
   "attachments": {},
   "cell_type": "markdown",
   "metadata": {
    "pycharm": {
     "name": "#%% md\n"
    }
   },
   "source": [
    "On constate qu'aucune variable ne contient de valeur nulle."
   ]
  },
  {
   "attachments": {},
   "cell_type": "markdown",
   "metadata": {
    "pycharm": {
     "name": "#%% md\n"
    }
   },
   "source": [
    "##  Visualisation par variable - On utilise pyplot pour afficher des infos utiles sur nos données"
   ]
  },
  {
   "attachments": {},
   "cell_type": "markdown",
   "metadata": {
    "pycharm": {
     "name": "#%% md\n"
    }
   },
   "source": [
    "Pour chaque variable on affiche un histogramme pour en apprendre plus sur les variables"
   ]
  },
  {
   "attachments": {},
   "cell_type": "markdown",
   "metadata": {
    "pycharm": {
     "name": "#%% md\n"
    }
   },
   "source": [
    "### Price info"
   ]
  },
  {
   "cell_type": "code",
   "execution_count": null,
   "metadata": {
    "pycharm": {
     "name": "#%%\n"
    }
   },
   "outputs": [],
   "source": [
    "plt.figure(figsize=(20,10))\n",
    "plt.hist(df['price'], bins=300, color='green')\n",
    "plt.xlabel('Price')\n",
    "plt.ylabel('Number of houses')\n",
    "plt.show()"
   ]
  },
  {
   "cell_type": "code",
   "execution_count": null,
   "metadata": {
    "pycharm": {
     "name": "#%%\n"
    }
   },
   "outputs": [],
   "source": [
    "#price describe\n",
    "df['price'].describe()"
   ]
  },
  {
   "attachments": {},
   "cell_type": "markdown",
   "metadata": {
    "pycharm": {
     "name": "#%% md\n"
    }
   },
   "source": [
    "### sqft living info"
   ]
  },
  {
   "cell_type": "markdown",
   "metadata": {
    "pycharm": {
     "name": "#%% md\n"
    }
   },
   "source": [
    "Représente la superficie intérieure"
   ]
  },
  {
   "cell_type": "code",
   "execution_count": null,
   "metadata": {
    "pycharm": {
     "name": "#%%\n"
    }
   },
   "outputs": [],
   "source": [
    "plt.figure(figsize=(20,10))\n",
    "plt.hist(df['sqft_living'], bins=100, color='green')\n",
    "plt.xlabel('sqft_living')\n",
    "plt.ylabel('Number of houses')\n",
    "plt.show()"
   ]
  },
  {
   "cell_type": "code",
   "execution_count": null,
   "metadata": {
    "pycharm": {
     "name": "#%%\n"
    }
   },
   "outputs": [],
   "source": [
    "#print info about sqft_living\n",
    "df['sqft_living'].describe()"
   ]
  },
  {
   "cell_type": "markdown",
   "metadata": {
    "pycharm": {
     "name": "#%% md\n"
    }
   },
   "source": [
    "Avoir une visualisation des tranches de 100 square foot"
   ]
  },
  {
   "cell_type": "code",
   "execution_count": null,
   "metadata": {
    "pycharm": {
     "name": "#%%\n"
    }
   },
   "outputs": [],
   "source": [
    "# On arrondis au millier pour pouvoir compter la fréquence de chaque tranche (de 100)\n",
    "sqft_living_arrondis = [sq // 100 * 100 for sq in df['sqft_living']]\n",
    "# Vérification de l'arrondis\n",
    "# print(sqft_living_100[:100])"
   ]
  },
  {
   "cell_type": "code",
   "execution_count": null,
   "metadata": {
    "pycharm": {
     "name": "#%%\n"
    }
   },
   "outputs": [],
   "source": [
    "pd_sqft_living_arrondis = pd.DataFrame(sqft_living_arrondis, dtype=int)\n",
    "pd_sqft_living_arrondis.value_counts()"
   ]
  },
  {
   "cell_type": "code",
   "execution_count": null,
   "metadata": {
    "pycharm": {
     "name": "#%%\n"
    }
   },
   "outputs": [],
   "source": [
    "plt.figure(figsize=(20,10))\n",
    "plt.hist(sqft_living_arrondis, bins=100, color='green')\n",
    "plt.xlabel('sqft_living_arrondis')\n",
    "plt.ylabel('Number of houses')\n",
    "plt.show()"
   ]
  },
  {
   "cell_type": "markdown",
   "metadata": {
    "pycharm": {
     "name": "#%% md\n"
    }
   },
   "source": [
    "Vérification de la maison avec la valeur **max** pour *sqft_living*."
   ]
  },
  {
   "cell_type": "code",
   "execution_count": null,
   "metadata": {
    "pycharm": {
     "name": "#%%\n"
    }
   },
   "outputs": [],
   "source": [
    "df[df['sqft_living'] == 13540.000000]"
   ]
  },
  {
   "cell_type": "markdown",
   "metadata": {
    "pycharm": {
     "name": "#%% md\n"
    }
   },
   "source": [
    "Cette maison coûte 2 280 000 $ cela parait cohérent."
   ]
  },
  {
   "cell_type": "markdown",
   "metadata": {
    "pycharm": {
     "name": "#%% md\n"
    }
   },
   "source": [
    "Vérification de la maison avec la valeur **min** pour *sqft_living*."
   ]
  },
  {
   "cell_type": "code",
   "execution_count": null,
   "metadata": {
    "pycharm": {
     "name": "#%%\n"
    }
   },
   "outputs": [],
   "source": [
    "df[df['sqft_living'] == 290]"
   ]
  },
  {
   "cell_type": "markdown",
   "metadata": {
    "pycharm": {
     "name": "#%% md\n"
    }
   },
   "source": [
    "En regardant sur google maps, on observe un cabanon autour d'un lac. De plus le terrain est grand. Le prix paraît cohérent."
   ]
  },
  {
   "attachments": {},
   "cell_type": "markdown",
   "metadata": {
    "pycharm": {
     "name": "#%% md\n"
    }
   },
   "source": [
    "### sqft lot info"
   ]
  },
  {
   "cell_type": "code",
   "execution_count": null,
   "metadata": {
    "pycharm": {
     "name": "#%%\n"
    }
   },
   "outputs": [],
   "source": [
    "plt.figure(figsize=(20,10))\n",
    "plt.hist(df['sqft_lot'], bins=100, color='green')\n",
    "plt.xlabel('sqft_lot')\n",
    "plt.ylabel('Number of houses')\n",
    "plt.show()\n"
   ]
  },
  {
   "attachments": {},
   "cell_type": "markdown",
   "metadata": {
    "pycharm": {
     "name": "#%% md\n"
    }
   },
   "source": [
    "On constate que cette variable ne suit pas une loi normale. Nous allons donc par la suite prendre son logarithme."
   ]
  },
  {
   "attachments": {},
   "cell_type": "markdown",
   "metadata": {
    "pycharm": {
     "name": "#%% md\n"
    }
   },
   "source": [
    "### Bedrooms info"
   ]
  },
  {
   "cell_type": "code",
   "execution_count": null,
   "metadata": {
    "pycharm": {
     "name": "#%%\n"
    }
   },
   "outputs": [],
   "source": [
    "plt.figure(figsize=(20,10))\n",
    "plt.hist(df['bedrooms'], bins=100, color='green')\n",
    "plt.xlabel('bedrooms')\n",
    "plt.ylabel('Number of houses')\n",
    "plt.show()"
   ]
  },
  {
   "cell_type": "code",
   "execution_count": null,
   "metadata": {
    "pycharm": {
     "name": "#%%\n"
    }
   },
   "outputs": [],
   "source": [
    "df['bedrooms'].describe()"
   ]
  },
  {
   "cell_type": "code",
   "execution_count": null,
   "metadata": {
    "pycharm": {
     "name": "#%%\n"
    }
   },
   "outputs": [],
   "source": [
    "df['bedrooms'].value_counts()"
   ]
  },
  {
   "cell_type": "code",
   "execution_count": null,
   "metadata": {
    "pycharm": {
     "name": "#%%\n"
    }
   },
   "outputs": [],
   "source": [
    "# print info on the row with 33 bedrooms\n",
    "df[df['bedrooms'] == 33]"
   ]
  },
  {
   "cell_type": "code",
   "execution_count": null,
   "metadata": {
    "pycharm": {
     "name": "#%%\n"
    }
   },
   "outputs": [],
   "source": [
    "df[df['bedrooms'] == 11]"
   ]
  },
  {
   "cell_type": "code",
   "execution_count": null,
   "metadata": {
    "pycharm": {
     "name": "#%%\n"
    }
   },
   "outputs": [],
   "source": [
    "df[df['bedrooms'] == 0]\n",
    "#id 6994 valeur abérante"
   ]
  },
  {
   "attachments": {},
   "cell_type": "markdown",
   "metadata": {
    "pycharm": {
     "name": "#%% md\n"
    }
   },
   "source": [
    "### Bathrooms info"
   ]
  },
  {
   "cell_type": "code",
   "execution_count": null,
   "metadata": {
    "pycharm": {
     "name": "#%%\n"
    }
   },
   "outputs": [],
   "source": [
    "plt.figure(figsize=(20,10))\n",
    "plt.hist(df['bathrooms'], bins=100, color='green')\n",
    "plt.xlabel('bathrooms')\n",
    "plt.ylabel('Number of houses')\n",
    "plt.show()"
   ]
  },
  {
   "cell_type": "code",
   "execution_count": null,
   "metadata": {
    "pycharm": {
     "name": "#%%\n"
    }
   },
   "outputs": [],
   "source": [
    "#print info about bathrooms\n",
    "df['bathrooms'].describe()"
   ]
  },
  {
   "cell_type": "code",
   "execution_count": null,
   "metadata": {
    "pycharm": {
     "name": "#%%\n"
    }
   },
   "outputs": [],
   "source": [
    "df['bathrooms'].value_counts()"
   ]
  },
  {
   "cell_type": "code",
   "execution_count": null,
   "metadata": {
    "pycharm": {
     "name": "#%%\n"
    }
   },
   "outputs": [],
   "source": [
    "#Show the line where bathrooms is 8\n",
    "df[df['bathrooms'] == 8]"
   ]
  },
  {
   "cell_type": "code",
   "execution_count": null,
   "metadata": {
    "pycharm": {
     "name": "#%%\n"
    }
   },
   "outputs": [],
   "source": [
    "df[df['bathrooms'] == 0]\n",
    "#id 875 abbérant"
   ]
  },
  {
   "attachments": {},
   "cell_type": "markdown",
   "metadata": {
    "pycharm": {
     "name": "#%% md\n"
    }
   },
   "source": [
    "On remarque ici que le nombre de bathrooms est un décimal et pas un int parce que on considère plusieurs types de Bathrooms. On site la source : https://www.kaggle.com/datasets/harlfoxem/housesalesprediction/discussion/24804?resource=download </br>\n",
    "On a des \"full-bathrooms\" des \"semi\" etc..."
   ]
  },
  {
   "attachments": {},
   "cell_type": "markdown",
   "metadata": {
    "pycharm": {
     "name": "#%% md\n"
    }
   },
   "source": [
    "### Waterfront info"
   ]
  },
  {
   "cell_type": "code",
   "execution_count": null,
   "metadata": {
    "pycharm": {
     "name": "#%%\n"
    }
   },
   "outputs": [],
   "source": [
    "plt.figure(figsize=(20,10))\n",
    "plt.hist(df['waterfront'], bins=100, color='green')\n",
    "plt.xlabel('waterfront')\n",
    "plt.hist(df['grade'], bins=100, color='green')\n",
    "plt.xlabel('grade')\n",
    "plt.ylabel('Number of houses')\n",
    "plt.show()"
   ]
  },
  {
   "cell_type": "code",
   "execution_count": null,
   "metadata": {
    "pycharm": {
     "name": "#%%\n"
    }
   },
   "outputs": [],
   "source": [
    "df['waterfront'].value_counts()"
   ]
  },
  {
   "cell_type": "code",
   "execution_count": null,
   "metadata": {
    "pycharm": {
     "name": "#%%\n"
    }
   },
   "outputs": [],
   "source": [
    "df['waterfront'].describe()"
   ]
  },
  {
   "cell_type": "code",
   "execution_count": null,
   "metadata": {
    "pycharm": {
     "name": "#%%\n"
    }
   },
   "outputs": [],
   "source": [
    "#Show the price of the houses with a waterfront\n",
    "df[df['waterfront'] == 1]['price'].describe()\n",
    "#Price histogramme of the houses with a waterfront\n",
    "plt.figure(figsize=(20,10))\n",
    "plt.hist(df[df['waterfront'] == 1]['price'], bins=100, color='green')\n",
    "plt.xlabel('Price')\n",
    "plt.ylabel('Number of houses')\n",
    "plt.show()"
   ]
  },
  {
   "cell_type": "code",
   "execution_count": null,
   "metadata": {
    "pycharm": {
     "name": "#%%\n"
    }
   },
   "outputs": [],
   "source": [
    "#Show the price of the houses without a waterfront\n",
    "df[df['waterfront'] == 0]['price'].describe()\n",
    "#Price histogramme of the houses without a waterfront\n",
    "plt.figure(figsize=(20,10))\n",
    "plt.hist(df[df['waterfront'] == 0]['price'], bins=100, color='green')\n",
    "plt.xlabel('Price')\n",
    "plt.ylabel('Number of houses')\n",
    "plt.show()"
   ]
  },
  {
   "cell_type": "code",
   "execution_count": null,
   "metadata": {
    "pycharm": {
     "name": "#%%\n"
    }
   },
   "outputs": [],
   "source": [
    "#Select the house with waterfront\n",
    "waterfronts=df[df['waterfront'] == 1]\n",
    "#Get the row with the highest price in the waterfronts\n",
    "waterfronts[waterfronts['price'] == waterfronts['price'].max()]"
   ]
  },
  {
   "attachments": {},
   "cell_type": "markdown",
   "metadata": {
    "pycharm": {
     "name": "#%% md\n"
    }
   },
   "source": [
    "### Grade info"
   ]
  },
  {
   "cell_type": "code",
   "execution_count": null,
   "metadata": {
    "pycharm": {
     "name": "#%%\n"
    }
   },
   "outputs": [],
   "source": [
    "plt.figure(figsize=(20,10))\n",
    "plt.hist(df['grade'], bins=100, color='green')\n",
    "plt.xlabel('grade')\n",
    "plt.ylabel('Number of houses')\n",
    "plt.show()"
   ]
  },
  {
   "cell_type": "code",
   "execution_count": null,
   "metadata": {
    "pycharm": {
     "name": "#%%\n"
    }
   },
   "outputs": [],
   "source": [
    "df['grade'].describe()"
   ]
  },
  {
   "attachments": {},
   "cell_type": "markdown",
   "metadata": {
    "pycharm": {
     "name": "#%% md\n"
    }
   },
   "source": [
    "Les notes varient de 1 à 13. Elles représentent la qualité de la construction de la maison. On peut voir que la majorité des maisons ont une note comprise entre 7 et 8."
   ]
  },
  {
   "attachments": {},
   "cell_type": "markdown",
   "metadata": {
    "pycharm": {
     "name": "#%% md\n"
    }
   },
   "source": [
    "### Year built info"
   ]
  },
  {
   "cell_type": "code",
   "execution_count": null,
   "metadata": {
    "pycharm": {
     "name": "#%%\n"
    }
   },
   "outputs": [],
   "source": [
    "plt.figure(figsize=(20,10))\n",
    "plt.hist(df['yr_built'], bins=100, color='green')\n",
    "plt.xlabel('Year built')\n",
    "plt.ylabel('Number of houses')\n",
    "plt.show()"
   ]
  },
  {
   "cell_type": "code",
   "execution_count": null,
   "metadata": {
    "pycharm": {
     "name": "#%%\n"
    }
   },
   "outputs": [],
   "source": [
    "df['yr_built'].describe()"
   ]
  },
  {
   "attachments": {},
   "cell_type": "markdown",
   "metadata": {
    "pycharm": {
     "name": "#%% md\n"
    }
   },
   "source": [
    "Les maisons sont toutes construites entre 1900 et 2015. La moitié des maisons ont été construites après 1975."
   ]
  },
  {
   "attachments": {},
   "cell_type": "markdown",
   "metadata": {
    "pycharm": {
     "name": "#%% md\n"
    }
   },
   "source": [
    "### Year renovated info"
   ]
  },
  {
   "cell_type": "code",
   "execution_count": null,
   "metadata": {
    "pycharm": {
     "name": "#%%\n"
    }
   },
   "outputs": [],
   "source": [
    "renovated_houses = df[df['yr_renovated'] != 0]\n",
    "plt.figure(figsize=(20,10))\n",
    "plt.hist(renovated_houses[\"yr_renovated\"], bins=100)\n",
    "plt.xlabel('Year renovated')\n",
    "plt.ylabel('Number of houses')\n",
    "plt.show()"
   ]
  },
  {
   "cell_type": "code",
   "execution_count": null,
   "metadata": {
    "pycharm": {
     "name": "#%%\n"
    }
   },
   "outputs": [],
   "source": [
    "# Uniquement les maisons qui ont été rénovées\n",
    "renovated_houses['yr_renovated'].describe()"
   ]
  },
  {
   "cell_type": "code",
   "execution_count": null,
   "metadata": {
    "pycharm": {
     "name": "#%%\n"
    }
   },
   "outputs": [],
   "source": [
    "# Toutes les maisons\n",
    "df['yr_renovated'].describe()"
   ]
  },
  {
   "attachments": {},
   "cell_type": "markdown",
   "metadata": {
    "pycharm": {
     "name": "#%% md\n"
    }
   },
   "source": [
    "Cette variable nous permet de savoir quand est-ce qu'une maison a été rennovée. Les maisons qui n'ont pas été rennovées ont une valeur de 0. On peut voir que la majorité des maisons n'ont pas été rennovées. Pour celles qui ont été rennovées, elles l'ont été entre 1934 et 2015."
   ]
  },
  {
   "attachments": {},
   "cell_type": "markdown",
   "metadata": {
    "pycharm": {
     "name": "#%% md\n"
    }
   },
   "source": [
    "### View info"
   ]
  },
  {
   "cell_type": "code",
   "execution_count": null,
   "metadata": {
    "pycharm": {
     "name": "#%%\n"
    }
   },
   "outputs": [],
   "source": [
    "plt.figure(figsize=(20,10))\n",
    "plt.hist(df['view'], bins=100, color='green')\n",
    "plt.xlabel('view')\n",
    "plt.ylabel('Number of houses')\n",
    "plt.show()"
   ]
  },
  {
   "cell_type": "code",
   "execution_count": null,
   "metadata": {
    "pycharm": {
     "name": "#%%\n"
    }
   },
   "outputs": [],
   "source": [
    "df['view'].describe()"
   ]
  },
  {
   "cell_type": "code",
   "execution_count": null,
   "metadata": {
    "pycharm": {
     "name": "#%%\n"
    }
   },
   "outputs": [],
   "source": [
    "df['view'].value_counts()"
   ]
  },
  {
   "cell_type": "code",
   "execution_count": null,
   "metadata": {
    "pycharm": {
     "name": "#%%\n"
    }
   },
   "outputs": [],
   "source": [
    "#Show the price of the houses with a view\n",
    "df[df['view'] == 1]['price'].describe()\n",
    "#Price histogramme of the houses with a view\n",
    "plt.figure(figsize=(20,10))\n",
    "plt.hist(df[df['view'] == 1]['price'], bins=100, color='green')\n",
    "plt.xlabel('Price')"
   ]
  },
  {
   "cell_type": "code",
   "execution_count": null,
   "metadata": {
    "pycharm": {
     "name": "#%%\n"
    }
   },
   "outputs": [],
   "source": [
    "#Choose the row with the highest price and view value of 4\n",
    "views=df[(df['view'] == 4)]\n",
    "views[views['price'] == views['price'].max()]"
   ]
  },
  {
   "cell_type": "markdown",
   "metadata": {
    "collapsed": false,
    "pycharm": {
     "name": "#%% md\n"
    }
   },
   "source": [
    "### Taille de la maison et du terrain"
   ]
  },
  {
   "cell_type": "code",
   "execution_count": null,
   "metadata": {
    "collapsed": false,
    "pycharm": {
     "name": "#%%\n"
    }
   },
   "outputs": [],
   "source": [
    "# sqft_living15 : average size of 15 closest houses\n",
    "# Houses that are 25% bigger than their neighbours in average\n",
    "# Those houses have a comparatible advantage on their nearest neighbours\n",
    "df[df['sqft_living'] > 1.25*df['sqft_living15']]"
   ]
  },
  {
   "cell_type": "code",
   "execution_count": null,
   "metadata": {
    "collapsed": false,
    "pycharm": {
     "name": "#%%\n"
    }
   },
   "outputs": [],
   "source": [
    "# Houses that are somehow bigger than the lot they are in..\n",
    "df[df['sqft_living']/df['floors'] > df['sqft_lot']]"
   ]
  },
  {
   "attachments": {},
   "cell_type": "markdown",
   "metadata": {
    "pycharm": {
     "name": "#%% md\n"
    }
   },
   "source": [
    "## Nettoyage des données"
   ]
  },
  {
   "cell_type": "code",
   "execution_count": null,
   "metadata": {
    "pycharm": {
     "name": "#%%\n"
    }
   },
   "outputs": [],
   "source": [
    "# Formatage date\n",
    "df['date'] = df['date'].astype('datetime64[ns]')\n",
    "df['date'] = pd.to_datetime(df['date'])\n",
    "df['date']=df['date'].map(dt.datetime.toordinal)"
   ]
  },
  {
   "cell_type": "code",
   "execution_count": null,
   "metadata": {
    "pycharm": {
     "name": "#%%\n"
    }
   },
   "outputs": [],
   "source": [
    "# Maison qui sont plus grandes que le terrain sur lequel elles sont construites\n",
    "df = df.drop(df[df['sqft_living']/df['floors'] > df['sqft_lot']].index)"
   ]
  },
  {
   "cell_type": "code",
   "execution_count": null,
   "metadata": {
    "pycharm": {
     "name": "#%%\n"
    }
   },
   "outputs": [],
   "source": [
    "# Maison qui a 33 chambres pour une superficie d'environ 162m² et 1 seul étage\n",
    "df = df.drop(df[df['bedrooms'] == 33].index)"
   ]
  },
  {
   "cell_type": "code",
   "execution_count": null,
   "metadata": {
    "pycharm": {
     "name": "#%%\n"
    }
   },
   "outputs": [],
   "source": [
    "# Passage de la variable sqft_lot à son logarithme\n",
    "df[\"sqft_lot\"] = np.log(df['sqft_lot'])"
   ]
  },
  {
   "attachments": {},
   "cell_type": "markdown",
   "metadata": {
    "pycharm": {
     "name": "#%% md\n"
    }
   },
   "source": [
    "On constate qu'en prenant le logarithme de sqft_lot, l'ensemble des modèles sont plus performants."
   ]
  },
  {
   "attachments": {},
   "cell_type": "markdown",
   "metadata": {
    "pycharm": {
     "name": "#%% md\n"
    }
   },
   "source": [
    "## Modèles prédictifs"
   ]
  },
  {
   "attachments": {},
   "cell_type": "markdown",
   "metadata": {
    "pycharm": {
     "name": "#%% md\n"
    }
   },
   "source": [
    "### Modèle simple de régression linéaire"
   ]
  },
  {
   "cell_type": "code",
   "execution_count": null,
   "metadata": {
    "pycharm": {
     "name": "#%%\n"
    }
   },
   "outputs": [],
   "source": [
    "#etude de la correlation\n",
    "matrice_corr = df.corr().round(1)\n",
    "sns.heatmap(data=matrice_corr, annot=True)"
   ]
  },
  {
   "attachments": {},
   "cell_type": "markdown",
   "metadata": {
    "pycharm": {
     "name": "#%% md\n"
    }
   },
   "source": [
    "Grâce à cette matrice de corrélation, on regarde la corrélation des différentes variables avec le prix. Il faut choisir les variables à retenir pour notre modèle en retenant celles qui sont le plus fort coefficient de corrélation. On constate que les coefficients vont de 0 à 0.7 (en valeurs absolues). On peut choisir de retenir les qui ont un coefficient supérieur ou égal à 0.4 en valeur absolue. On retient donc bathrooms, sqft_living, view, grade, sqfr_above et sqft_living15."
   ]
  },
  {
   "attachments": {},
   "cell_type": "markdown",
   "metadata": {
    "pycharm": {
     "name": "#%% md\n"
    }
   },
   "source": [
    "#### Mise en place du modèle"
   ]
  },
  {
   "cell_type": "code",
   "execution_count": null,
   "metadata": {
    "pycharm": {
     "name": "#%%\n"
    }
   },
   "outputs": [],
   "source": [
    "#on utilise seulement les variables qui ont une correlation avec le prix\n",
    "X=pd.DataFrame(np.c_[df['bathrooms'],df['sqft_living'],df['view'],df['grade'],df['sqft_above'],df['sqft_living15']], columns = ['bathrooms','sqft_living','view','grade','sqft_above','sqft_living15'])\n",
    "Y = df['price']\n",
    " \n",
    "#base d'apprentissage et base de test\n",
    " \n",
    "X_train, X_test, Y_train, Y_test = train_test_split(X, Y, test_size = 0.2, random_state=5)\n",
    "print(X_train.shape)\n",
    "print(X_test.shape)\n",
    "print(Y_train.shape)\n",
    "print(Y_test.shape)"
   ]
  },
  {
   "attachments": {},
   "cell_type": "markdown",
   "metadata": {
    "pycharm": {
     "name": "#%% md\n"
    }
   },
   "source": [
    "#### Entrainement du modèle"
   ]
  },
  {
   "cell_type": "code",
   "execution_count": null,
   "metadata": {
    "pycharm": {
     "name": "#%%\n"
    }
   },
   "outputs": [],
   "source": [
    "#entrainement du modèle\n",
    " \n",
    "lmodellineaire = LinearRegression()\n",
    "lmodellineaire.fit(X_train, Y_train)"
   ]
  },
  {
   "attachments": {},
   "cell_type": "markdown",
   "metadata": {
    "pycharm": {
     "name": "#%% md\n"
    }
   },
   "source": [
    "#### Evaluation du modèle"
   ]
  },
  {
   "cell_type": "code",
   "execution_count": null,
   "metadata": {
    "pycharm": {
     "name": "#%%\n"
    }
   },
   "outputs": [],
   "source": [
    "# Evaluation du training set\n",
    "\n",
    "y_train_predict = lmodellineaire.predict(X_train)\n",
    "rmse = (np.sqrt(mean_squared_error(Y_train, y_train_predict)))\n",
    " \n",
    "print(\"La performance du modèle sur la base d'apprentissage\")\n",
    "print('--------------------------------------')\n",
    "print(\"L'erreur quadratique moyenne est {}\".format(rmse))\n",
    "print('\\n')\n",
    " \n",
    "# model evaluation for testing set\n",
    "y_test_predict = lmodellineaire.predict(X_test)\n",
    "rmse = (np.sqrt(mean_squared_error(Y_test, y_test_predict)))\n",
    " \n",
    "print('La performance du modèle sur la base de test')\n",
    "print('--------------------------------------')\n",
    "print(\"L'erreur quadratique moyenne est {}\".format(rmse))"
   ]
  },
  {
   "attachments": {},
   "cell_type": "markdown",
   "metadata": {
    "pycharm": {
     "name": "#%% md\n"
    }
   },
   "source": [
    "Le modèle n'est pas trop mauvais. L'erreur quadratique moyenne est d'environ 240000$, ce qui est de l'ordre de l'écart-type du prix des maisons (370000$)."
   ]
  },
  {
   "attachments": {},
   "cell_type": "markdown",
   "metadata": {
    "pycharm": {
     "name": "#%% md\n"
    }
   },
   "source": [
    "### Modèle simple de régression linéaire avec toutes les variables"
   ]
  },
  {
   "attachments": {},
   "cell_type": "markdown",
   "metadata": {
    "pycharm": {
     "name": "#%% md\n"
    }
   },
   "source": [
    "#### Mise en place du modèle"
   ]
  },
  {
   "cell_type": "code",
   "execution_count": null,
   "metadata": {
    "pycharm": {
     "name": "#%%\n"
    }
   },
   "outputs": [],
   "source": [
    "# On exclue le l'id de la maison qui n'a aucune influence sur le prix\n",
    "X = df.loc[:, ~df.columns.isin(['id','price'])]\n",
    "Y = df['price']\n",
    "\n",
    "#base d'apprentissage et base de test\n",
    " \n",
    "X_train, X_test, Y_train, Y_test = train_test_split(X, Y, test_size = 0.2, random_state=5)"
   ]
  },
  {
   "attachments": {},
   "cell_type": "markdown",
   "metadata": {
    "pycharm": {
     "name": "#%% md\n"
    }
   },
   "source": [
    "#### Entrainement du modèle"
   ]
  },
  {
   "cell_type": "code",
   "execution_count": null,
   "metadata": {
    "pycharm": {
     "name": "#%%\n"
    }
   },
   "outputs": [],
   "source": [
    "#entrainement du modèle\n",
    "\n",
    "lmodellineaire = LinearRegression()\n",
    "lmodellineaire.fit(X_train, Y_train)"
   ]
  },
  {
   "attachments": {},
   "cell_type": "markdown",
   "metadata": {
    "pycharm": {
     "name": "#%% md\n"
    }
   },
   "source": [
    "#### Evaluation du modèle"
   ]
  },
  {
   "cell_type": "code",
   "execution_count": null,
   "metadata": {
    "pycharm": {
     "name": "#%%\n"
    }
   },
   "outputs": [],
   "source": [
    "# Evaluation du training set\n",
    "\n",
    "y_train_predict = lmodellineaire.predict(X_train)\n",
    "rmse = (np.sqrt(mean_squared_error(Y_train, y_train_predict)))\n",
    " \n",
    "print(\"La performance du modèle sur la base d'apprentissage\")\n",
    "print('--------------------------------------')\n",
    "print(\"L'erreur quadratique moyenne est {}\".format(rmse))\n",
    "print('\\n')\n",
    " \n",
    "# model evaluation for testing set\n",
    "y_test_predict = lmodellineaire.predict(X_test)\n",
    "rmse = (np.sqrt(mean_squared_error(Y_test, y_test_predict)))\n",
    " \n",
    "print('La performance du modèle sur la base de test')\n",
    "print('--------------------------------------')\n",
    "print(\"L'erreur quadratique moyenne est {}\".format(rmse))"
   ]
  },
  {
   "attachments": {},
   "cell_type": "markdown",
   "metadata": {
    "pycharm": {
     "name": "#%% md\n"
    }
   },
   "source": [
    "L'erreur quadratique moyenne est ici plus faible (200 000$). Le modèle est meilleur. Il peut cependant être intéressant de pousser l'analyse en utilisant un modèle avec régularisation."
   ]
  },
  {
   "attachments": {},
   "cell_type": "markdown",
   "metadata": {
    "pycharm": {
     "name": "#%% md\n"
    }
   },
   "source": [
    "### Ridge Regression"
   ]
  },
  {
   "attachments": {},
   "cell_type": "markdown",
   "metadata": {
    "pycharm": {
     "name": "#%% md\n"
    }
   },
   "source": [
    "#### Mise en place du modèle"
   ]
  },
  {
   "cell_type": "code",
   "execution_count": null,
   "metadata": {
    "pycharm": {
     "name": "#%%\n"
    }
   },
   "outputs": [],
   "source": [
    "X = df.loc[:, ~df.columns.isin(['id','price'])]\n",
    "Y = df['price']\n",
    "\n",
    "X_train, X_test, Y_train, Y_test = train_test_split(X, Y, test_size = 0.2, random_state=5)"
   ]
  },
  {
   "attachments": {},
   "cell_type": "markdown",
   "metadata": {
    "pycharm": {
     "name": "#%% md\n"
    }
   },
   "source": [
    "#### Recherche du meilleur hyperparameter alpha"
   ]
  },
  {
   "cell_type": "code",
   "execution_count": null,
   "metadata": {
    "pycharm": {
     "name": "#%%\n"
    }
   },
   "outputs": [],
   "source": [
    "ridge=Ridge()\n",
    "parameters = {'alpha': (np.logspace(-8, 8, 100))}\n",
    "#parameters={'alpha':[1e-15,1e-10,1e-8,1e-3,1e-2,1e-1,0.5,1,1.5,2,5,10,20,30,35,40,45,50,55,100]}\n",
    "ridge_regressor=GridSearchCV(ridge,parameters,scoring='neg_mean_squared_error',cv=10)\n",
    "ridge_regressor.fit(X_train,Y_train)\n",
    "\n",
    "alpha = ridge_regressor.best_params_[\"alpha\"]\n",
    "print('alpha : {}'.format(alpha))"
   ]
  },
  {
   "attachments": {},
   "cell_type": "markdown",
   "metadata": {
    "pycharm": {
     "name": "#%% md\n"
    }
   },
   "source": [
    "#### Entrainement du modèle"
   ]
  },
  {
   "cell_type": "code",
   "execution_count": null,
   "metadata": {
    "pycharm": {
     "name": "#%%\n"
    }
   },
   "outputs": [],
   "source": [
    "ridgereg = make_pipeline(StandardScaler(), Ridge(alpha=alpha_ridge))\n",
    "ridgereg.fit(X_train,Y_train)"
   ]
  },
  {
   "attachments": {},
   "cell_type": "markdown",
   "metadata": {
    "pycharm": {
     "name": "#%% md\n"
    }
   },
   "source": [
    "#### Evaluation du modèle"
   ]
  },
  {
   "cell_type": "code",
   "execution_count": null,
   "metadata": {
    "pycharm": {
     "name": "#%%\n"
    }
   },
   "outputs": [],
   "source": [
    "# Evaluation du training set\n",
    "\n",
    "Y_train_pred = ridgereg.predict(X_train)\n",
    "Y_test_pred = ridgereg.predict(X_test)\n",
    "#print('MSE train: %.3f, test: %.3f' % (mean_squared_error(Y_train, Y_train_pred),mean_squared_error(Y_test, Y_test_pred)))\n",
    "\n",
    "Y_train_predict = ridgereg.predict(X_train)\n",
    "rmse = (np.sqrt(mean_squared_error(Y_train, Y_train_predict)))\n",
    " \n",
    "print(\"La performance du modèle sur la base d'apprentissage\")\n",
    "print('--------------------------------------')\n",
    "print(\"L'erreur quadratique moyenne est {}\".format(rmse))\n",
    "print('\\n')\n",
    " \n",
    "# model evaluation for testing set\n",
    "Y_test_predict = ridgereg.predict(X_test)\n",
    "rmse = (np.sqrt(mean_squared_error(Y_test, Y_test_predict)))\n",
    " \n",
    "print('La performance du modèle sur la base de test')\n",
    "print('--------------------------------------')\n",
    "print(\"L'erreur quadratique moyenne est {}\".format(rmse))"
   ]
  },
  {
   "attachments": {},
   "cell_type": "markdown",
   "metadata": {
    "pycharm": {
     "name": "#%% md\n"
    }
   },
   "source": [
    "Les performances de la Ridge Regression sont très similaires à celles de la régression linéaire simple. Nous allons donc explorer la régression Lasso."
   ]
  },
  {
   "attachments": {},
   "cell_type": "markdown",
   "metadata": {
    "pycharm": {
     "name": "#%% md\n"
    }
   },
   "source": [
    "### Lasso"
   ]
  },
  {
   "attachments": {},
   "cell_type": "markdown",
   "metadata": {
    "pycharm": {
     "name": "#%% md\n"
    }
   },
   "source": [
    "### Mise en place du modèle"
   ]
  },
  {
   "cell_type": "code",
   "execution_count": null,
   "metadata": {
    "pycharm": {
     "name": "#%%\n"
    }
   },
   "outputs": [],
   "source": [
    "X = df.loc[:, ~df.columns.isin(['id','price'])]\n",
    "Y = df['price']\n",
    "\n",
    "X_train, X_test, Y_train, Y_test = train_test_split(X, Y, test_size = 0.2, random_state=5)"
   ]
  },
  {
   "attachments": {},
   "cell_type": "markdown",
   "metadata": {
    "pycharm": {
     "name": "#%% md\n"
    }
   },
   "source": [
    "#### Recherche du meilleur hyperparameter alpha"
   ]
  },
  {
   "cell_type": "code",
   "execution_count": null,
   "metadata": {
    "pycharm": {
     "name": "#%%\n"
    }
   },
   "outputs": [],
   "source": [
    "# Attention : la recherche est longue (compter 10-15 minutes)\n",
    "lasso=Lasso(normalize=True)\n",
    "parameters = {'alpha': (np.logspace(-8, 8, 100))}\n",
    "lasso_regressor=GridSearchCV(lasso,parameters,cv=3)\n",
    "lasso_regressor.fit(X_train,Y_train)\n",
    "\n",
    "lasso_alpha = lasso_regressor.best_params_[\"alpha\"]\n",
    "\n",
    "print(lasso_regressor.best_params_)\n",
    "print(lasso_regressor.best_score_)"
   ]
  },
  {
   "attachments": {},
   "cell_type": "markdown",
   "metadata": {
    "pycharm": {
     "name": "#%% md\n"
    }
   },
   "source": [
    "#### Entrainement du modèle"
   ]
  },
  {
   "cell_type": "code",
   "execution_count": null,
   "metadata": {
    "pycharm": {
     "name": "#%%\n"
    }
   },
   "outputs": [],
   "source": [
    "lassoreg = Lasso(alpha = lasso_alpha, normalize = True)\n",
    "lassoreg.fit(X_train, Y_train)"
   ]
  },
  {
   "attachments": {},
   "cell_type": "markdown",
   "metadata": {
    "pycharm": {
     "name": "#%% md\n"
    }
   },
   "source": [
    "#### Evaluation du modèle"
   ]
  },
  {
   "cell_type": "code",
   "execution_count": null,
   "metadata": {
    "pycharm": {
     "name": "#%%\n"
    }
   },
   "outputs": [],
   "source": [
    "print(lassoreg.score(X_test, Y_test))"
   ]
  },
  {
   "cell_type": "code",
   "execution_count": null,
   "metadata": {
    "pycharm": {
     "name": "#%%\n"
    }
   },
   "outputs": [],
   "source": [
    "# Evaluation du training set\n",
    "\n",
    "Y_train_pred = lassoreg.predict(X_train)\n",
    "Y_test_pred = lassoreg.predict(X_test)\n",
    "#print('MSE train: %.3f, test: %.3f' % (mean_squared_error(Y_train, Y_train_pred),mean_squared_error(Y_test, Y_test_pred)))\n",
    "\n",
    "Y_train_predict = lassoreg.predict(X_train)\n",
    "rmse = (np.sqrt(mean_squared_error(Y_train, Y_train_predict)))\n",
    " \n",
    "print(\"La performance du modèle sur la base d'apprentissage\")\n",
    "print('--------------------------------------')\n",
    "print(\"L'erreur quadratique moyenne est {}\".format(rmse))\n",
    "print('\\n')\n",
    " \n",
    "# model evaluation for testing set\n",
    "Y_test_predict = lassoreg.predict(X_test)\n",
    "rmse = (np.sqrt(mean_squared_error(Y_test, Y_test_predict)))\n",
    " \n",
    "print('La performance du modèle sur la base de test')\n",
    "print('--------------------------------------')\n",
    "print(\"L'erreur quadratique moyenne est {}\".format(rmse))"
   ]
  },
  {
   "attachments": {},
   "cell_type": "markdown",
   "metadata": {
    "pycharm": {
     "name": "#%% md\n"
    }
   },
   "source": [
    "### Random Forest"
   ]
  },
  {
   "attachments": {},
   "cell_type": "markdown",
   "metadata": {
    "pycharm": {
     "name": "#%% md\n"
    }
   },
   "source": [
    "#### Mis en place du modèle"
   ]
  },
  {
   "cell_type": "code",
   "execution_count": null,
   "metadata": {
    "pycharm": {
     "name": "#%%\n"
    }
   },
   "outputs": [],
   "source": [
    "X = df.loc[:, ~df.columns.isin(['id','price'])]\n",
    "Y = df['price']\n",
    "\n",
    "X_train, X_test, Y_train, Y_test = train_test_split(X, Y, test_size = 0.2, random_state=5)"
   ]
  },
  {
   "attachments": {},
   "cell_type": "markdown",
   "metadata": {
    "pycharm": {
     "name": "#%% md\n"
    }
   },
   "source": [
    "#### Entrainement du modèle"
   ]
  },
  {
   "cell_type": "code",
   "execution_count": null,
   "metadata": {
    "pycharm": {
     "name": "#%%\n"
    }
   },
   "outputs": [],
   "source": [
    "RFregressor = RandomForestRegressor(n_estimators = 100, random_state = 0)\n",
    "# n_estimators = nombre d'arbres de décision, c'est-à-dire le nombre de modèles que l'on va construire\n",
    "RFregressor.fit(X_train, Y_train)"
   ]
  },
  {
   "attachments": {},
   "cell_type": "markdown",
   "metadata": {
    "pycharm": {
     "name": "#%% md\n"
    }
   },
   "source": [
    "#### Evaluation du modèle"
   ]
  },
  {
   "cell_type": "code",
   "execution_count": null,
   "metadata": {
    "pycharm": {
     "name": "#%%\n"
    }
   },
   "outputs": [],
   "source": [
    "# Evaluation du training set\n",
    "\n",
    "Y_train_pred = RFregressor.predict(X_train)\n",
    "Y_test_pred = RFregressor.predict(X_test)\n",
    "#print('MSE train: %.3f, test: %.3f' % (mean_squared_error(Y_train, Y_train_pred),mean_squared_error(Y_test, Y_test_pred)))\n",
    "\n",
    "Y_train_predict = RFregressor.predict(X_train)\n",
    "rmse = (np.sqrt(mean_squared_error(Y_train, Y_train_predict)))\n",
    " \n",
    "print(\"La performance du modèle sur la base d'apprentissage\")\n",
    "print('--------------------------------------')\n",
    "print(\"L'erreur quadratique moyenne est {}\".format(rmse))\n",
    "print('\\n')\n",
    " \n",
    "# model evaluation for testing set\n",
    "Y_test_predict = RFregressor.predict(X_test)\n",
    "rmse = (np.sqrt(mean_squared_error(Y_test, Y_test_predict)))\n",
    " \n",
    "print('La performance du modèle sur la base de test')\n",
    "print('--------------------------------------')\n",
    "print(\"L'erreur quadratique moyenne est {}\".format(rmse))"
   ]
  },
  {
   "cell_type": "markdown",
   "metadata": {
    "collapsed": false,
    "pycharm": {
     "name": "#%% md\n"
    }
   },
   "source": [
    "On a un bien meilleur résultat avec le Random Forest. L'erreur quadratique moyenne est de 120 000$ sur le dataset de test. C'est donc un jeu de donnée qui est mieux prédit par un modèle non linéaire.\n",
    "\n",
    "## Kernel Ridge Regression\n",
    "### Mise en place du modèle"
   ]
  },
  {
   "cell_type": "code",
   "execution_count": null,
   "metadata": {
    "collapsed": false,
    "pycharm": {
     "name": "#%%\n"
    }
   },
   "outputs": [],
   "source": [
    "X = df.loc[:, ~df.columns.isin(['id','price'])]\n",
    "Y = df['price']\n",
    "X_train, X_test, Y_train, Y_test = train_test_split(X, Y, test_size=0.2, random_state=42)\n",
    "\n",
    "# On normalise les données\n",
    "scaler = StandardScaler()\n",
    "X_train = scaler.fit_transform(X_train)\n",
    "X_test = scaler.transform(X_test)"
   ]
  },
  {
   "cell_type": "markdown",
   "metadata": {
    "collapsed": false,
    "pycharm": {
     "name": "#%% md\n"
    }
   },
   "source": [
    "### Entrainement du modèle"
   ]
  },
  {
   "cell_type": "code",
   "execution_count": null,
   "metadata": {
    "collapsed": false,
    "pycharm": {
     "name": "#%%\n"
    }
   },
   "outputs": [],
   "source": [
    "from sklearn.kernel_ridge import KernelRidge\n",
    "\n",
    "# Création en entrainement du modèle\n",
    "regressor = KernelRidge(kernel='rbf', alpha=0.1, gamma=0.1)\n",
    "regressor.fit(X_train, Y_train)"
   ]
  },
  {
   "cell_type": "markdown",
   "metadata": {
    "collapsed": false,
    "pycharm": {
     "name": "#%% md\n"
    }
   },
   "source": [
    "### Evaluation du modèle"
   ]
  },
  {
   "cell_type": "code",
   "execution_count": null,
   "metadata": {
    "collapsed": false,
    "pycharm": {
     "name": "#%%\n"
    }
   },
   "outputs": [],
   "source": [
    "Y_train_pred = regressor.predict(X_train)\n",
    "Y_test_pred = regressor.predict(X_test)\n",
    "\n",
    "Y_train_predict = regressor.predict(X_train)\n",
    "rmse = (np.sqrt(mean_squared_error(Y_train, Y_train_predict)))\n",
    "\n",
    "print(\"La performance du modèle sur la base d'apprentissage\")\n",
    "print('--------------------------------------')\n",
    "print(\"L'erreur quadratique moyenne est {}\".format(rmse))\n",
    "print('\\n')\n",
    "\n",
    "# model evaluation for testing set\n",
    "Y_test_predict = regressor.predict(X_test)\n",
    "rmse = (np.sqrt(mean_squared_error(Y_test, Y_test_predict)))\n",
    "\n",
    "print('La performance du modèle sur la base de test')\n",
    "print('--------------------------------------')\n",
    "print(\"L'erreur quadratique moyenne est {}\".format(rmse))\n"
   ]
  },
  {
   "attachments": {},
   "cell_type": "markdown",
   "metadata": {},
   "source": [
    "Dans l'état actuel, le modèle est moins bon que la régression linéaire simple, ce qui est étonnant. Il faudrait donc modifier les hyperparamètres pour obtenir un meilleur résultat. Cependant, les hyperparamètres présentés sont ceux qui donnent les meilleurs résultats pour un temps de calcul raisonnable."
   ]
  },
  {
   "attachments": {},
   "cell_type": "markdown",
   "metadata": {
    "collapsed": false,
    "pycharm": {
     "name": "#%% md\n"
    }
   },
   "source": [
    "## Approximation de nyström for kernel ridge regression\n",
    "### Mise en place de l'approximation"
   ]
  },
  {
   "cell_type": "code",
   "execution_count": null,
   "metadata": {
    "collapsed": false,
    "pycharm": {
     "name": "#%%\n"
    }
   },
   "outputs": [],
   "source": [
    "from sklearn.kernel_approximation import Nystroem\n",
    "\n",
    "# Création d'un objet Nystroem avec n_components = 100\n",
    "nystroem = Nystroem(kernel='rbf', n_components=100)\n",
    "\n",
    "#On utilise la variable regressor de la partie précédente\n",
    "\n",
    "X_train_nystroem = nystroem.fit_transform(X_train)\n",
    "\n",
    "# Entraînement du modèle KernelRidge sur les données transformées par Nystroem\n",
    "regressor.fit(X_train_nystroem, Y_train)\n",
    "\n",
    "# Prédiction sur les données d'entraînement\n",
    "Y_train_pred = regressor.predict(X_train_nystroem)\n",
    "\n",
    "# Calcul de l'erreur quadratique moyenne sur les données d'entraînement\n",
    "rmse_train = np.sqrt(mean_squared_error(Y_train, Y_train_pred))\n",
    "\n",
    "# Transformation des données de test avec la méthode de Nystroem\n",
    "X_test_nystroem = nystroem.transform(X_test)\n",
    "\n",
    "# Prédiction sur les données de test\n",
    "Y_test_pred = regressor.predict(X_test_nystroem)\n",
    "\n",
    "# Calcul de l'erreur quadratique moyenne sur les données de test\n",
    "rmse_test = np.sqrt(mean_squared_error(Y_test, Y_test_pred))\n",
    "\n",
    "# Affichage des résultats\n",
    "print(\"Performance du modèle sur la base d'apprentissage :\")\n",
    "print(\"Erreur quadratique moyenne : {:.2f}\".format(rmse_train))\n",
    "print('\\n')\n",
    "print(\"Performance du modèle sur la base de test :\")\n",
    "print(\"Erreur quadratique moyenne : {:.2f}\".format(rmse_test))"
   ]
  },
  {
   "cell_type": "markdown",
   "metadata": {},
   "source": [
    "### Comparaison des modèles"
   ]
  },
  {
   "attachments": {},
   "cell_type": "markdown",
   "metadata": {},
   "source": [
    "Nous allons maintenant nous intéresser à une comparaison détaillée des modèles."
   ]
  },
  {
   "attachments": {},
   "cell_type": "markdown",
   "metadata": {},
   "source": [
    "Premièrment, il est intéressant d'observer que pour les modèles de régression linéaire, introduire de la régularisation n'améliore pas la prédiction en terme d'erreur quadratique moyenne, là où pour le modèle non linéaire Random Forest, la prédiction est améliorée. Cela peut vouloir dire que :\n",
    "- Le jeu de données est assez propre et peu bruité\n",
    "- La forme intrinsèque d'un modèle linéaire ne permet pas de faire mieux que ce qui est obtenu et introduire de la régularisation n'améliore donc pas la prédiction"
   ]
  },
  {
   "attachments": {},
   "cell_type": "markdown",
   "metadata": {},
   "source": [
    "Choix du nombre de pli :\n",
    "Nous avons utilisé la source : https://machinelearningmastery.com/k-fold-cross-validation/ </br>\n",
    "Nous avons choisi 10 plis car cette valeur est montrée efficace (empiriquement) et conseillée \"par défaut\". </br>\n",
    "Notre jeu de données est assez grand pour que cette valeur ait du sens, il y a assez de données dans les 9 plis pour entrainer notre modèle."
   ]
  },
  {
   "cell_type": "code",
   "execution_count": null,
   "metadata": {},
   "outputs": [],
   "source": [
    "X = df.loc[:, ~df.columns.isin(['id','price'])]\n",
    "Y = df['price']\n",
    "# Mise en place des plis\n",
    "scores = {\"RF\":[], \"Lasso\":[], \"Ridge\":[]}\n",
    "var = {\"RF\":[], \"Lasso\":[], \"Ridge\":[]}\n",
    "RF_errors = []\n",
    "lasso_errors = []\n",
    "ridge_errors = []\n",
    "kfold = KFold(n_splits=10, shuffle=True, random_state=7)\n",
    "for train_index, test_index in kfold.split(X, Y):\n",
    "    X_train_CV = [X.iloc[i] for i in train_index]\n",
    "    X_test_CV = [X.iloc[i] for i in test_index]\n",
    "    Y_train_CV = [Y.iloc[i] for i in train_index]\n",
    "    Y_test_CV = [Y.iloc[i] for i in test_index]\n",
    "\n",
    "    RFregressor.fit(X_train_CV, Y_train_CV)\n",
    "    Y_test_pred_RF = RFregressor.predict(X_test_CV)\n",
    "\n",
    "    lassoreg.fit(X_train_CV, Y_train_CV)\n",
    "    Y_test_pred_lasso = lassoreg.predict(X_test_CV)\n",
    "\n",
    "    ridgereg.fit(X_train_CV, Y_train_CV)\n",
    "    Y_test_pred_ridge = ridgereg.predict(X_test_CV)\n",
    "    \n",
    "    for i in range(len(Y_test_CV)):\n",
    "        Y_test = Y_test_CV[i]\n",
    "        RF_errors.append(Y_test_pred_RF[i]-Y_test)\n",
    "        lasso_errors.append(Y_test_pred_lasso[i]-Y_test)\n",
    "        ridge_errors.append(Y_test_pred_ridge[i]-Y_test)\n"
   ]
  },
  {
   "cell_type": "code",
   "execution_count": null,
   "metadata": {},
   "outputs": [],
   "source": [
    "RF_errors = np.array(RF_errors)\n",
    "lasso_errors = np.array(lasso_errors)\n",
    "ridge_errors = np.array(ridge_errors)\n",
    "\n",
    "# summary of errors arrays\n",
    "print('RF_errors: mean=%.3f stdv=%.3f' % (np.mean(RF_errors), np.std(RF_errors)))\n",
    "print('lasso_errors: mean=%.3f stdv=%.3f' % (np.mean(lasso_errors), np.std(lasso_errors)))\n",
    "print('ridge_errors: mean=%.3f stdv=%.3f' % (np.mean(ridge_errors), np.std(ridge_errors)))\n"
   ]
  },
  {
   "cell_type": "code",
   "execution_count": null,
   "metadata": {},
   "outputs": [],
   "source": [
    "fig = plt.figure(figsize =(10, 10))\n",
    "\n",
    "boxplot_dict = {'RF':RF_errors, 'Lasso':lasso_errors, 'Ridge':ridge_errors}\n",
    "# Creating plot\n",
    "plt.boxplot(boxplot_dict.values(), labels = boxplot_dict.keys())\n",
    " \n",
    "# show plot\n",
    "plt.show()"
   ]
  },
  {
   "attachments": {},
   "cell_type": "markdown",
   "metadata": {},
   "source": [
    "Premièrement, on constate que les régressions ridge et lasso ont des résultats égaux en terme de performance de prédiction. </br>\n",
    "De plus, on constate que RandomForest a une erreur systématique en moyenne plus grande par rapport à ridge et lasso (-600 contre -20) mais c'est tout à fait négligeable considérant les ordres de grandeur du problème.</br>\n",
    "A l'inverse, on constate que l'écart-type des erreurs est plus faible pour RandomForest que pour ridge et lasso (donc la variance également). Cependant, considérant les ordres de grandeurs du problème, un écart-type de 200 000€ pour ridge et lasso reste convenable, mais RandomForest est encore meilleur. </br>\n",
    "Le modèle le plus intéressant à utiliser est donc RandomForest."
   ]
  }
 ],
 "metadata": {
  "kernelspec": {
   "display_name": "Python 3",
   "language": "python",
   "name": "python3"
  },
  "language_info": {
   "codemirror_mode": {
    "name": "ipython",
    "version": 3
   },
   "file_extension": ".py",
   "mimetype": "text/x-python",
   "name": "python",
   "nbconvert_exporter": "python",
   "pygments_lexer": "ipython3",
   "version": "3.9.13"
  },
  "orig_nbformat": 4
 },
 "nbformat": 4,
 "nbformat_minor": 2
}
